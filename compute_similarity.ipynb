{
 "cells": [
  {
   "cell_type": "code",
   "execution_count": null,
   "metadata": {},
   "outputs": [],
   "source": [
    "import os\n",
    "import json\n",
    "\n",
    "def load_or_initialize_json(filepath, default=None):\n",
    "    if default is None:\n",
    "        default = []\n",
    "    if os.path.exists(filepath):\n",
    "        with open(filepath, \"r\") as f:\n",
    "            return json.load(f)\n",
    "    return default\n",
    "\n",
    "SCRAPED_CONTENTS_FILE = \"scraped_contents.json\"\n",
    "scraped_contents = load_or_initialize_json(SCRAPED_CONTENTS_FILE)\n",
    "text_contents = [tweet['content'] for tweet in scraped_contents]\n",
    "print(len(text_contents))\n",
    "print(type(text_contents))\n"
   ]
  },
  {
   "cell_type": "code",
   "execution_count": null,
   "metadata": {},
   "outputs": [],
   "source": [
    "import os\n",
    "import cohere\n",
    "import numpy as np\n",
    "from dotenv import load_dotenv\n",
    "\n",
    "load_dotenv()\n",
    "\n",
    "model_name = \"embed-english-v3.0\"\n",
    "api_key: str | None = os.getenv(\"COHERE_API_KEY\")\n",
    "input_type_embed = \"search_document\"\n",
    "\n",
    "# Now we'll set up the cohere client.\n",
    "if api_key is None:\n",
    "    raise ValueError(\"Please set the COHERE_API_KEY environment variable.\")\n",
    "co = cohere.Client(api_key)\n",
    "\n",
    "# Get the embeddings\n",
    "embeds: list[list[float]] = co.embed(\n",
    "    texts=text_contents, model=model_name, input_type=input_type_embed\n",
    ").embeddings\n",
    "\n",
    "# print(embeds)\n",
    "print(type(embeds), len(embeds), len(embeds[0]))\n",
    "array_embeds = np.array(embeds)\n",
    "print(array_embeds.shape)\n",
    "np.save('embeddings.npy', array_embeds)"
   ]
  },
  {
   "cell_type": "code",
   "execution_count": null,
   "metadata": {},
   "outputs": [],
   "source": [
    "import numpy as np\n",
    "\n",
    "def cosine_similarity_matrix(vectors, query_vec):\n",
    "    dot_product = np.dot(vectors, query_vec)\n",
    "    \n",
    "    norms_vectors = np.linalg.norm(vectors, axis=1)\n",
    "    norm_query_vec = np.linalg.norm(query_vec)\n",
    "    \n",
    "    if norm_query_vec == 0 or np.any(norms_vectors == 0):\n",
    "        raise ValueError(\"Cosine similarity is not defined when one or both vectors are zero vectors.\")\n",
    "    \n",
    "    similarity = dot_product / (norms_vectors * norm_query_vec)\n",
    "    return similarity\n"
   ]
  },
  {
   "cell_type": "code",
   "execution_count": null,
   "metadata": {},
   "outputs": [],
   "source": [
    "import os\n",
    "import cohere\n",
    "from dotenv import load_dotenv\n",
    "\n",
    "load_dotenv()\n",
    "\n",
    "model_name = \"embed-english-v3.0\"\n",
    "api_key: str | None = os.getenv(\"COHERE_API_KEY\")\n",
    "input_type_embed = \"search_query\"\n",
    "QUERY=\"LMM Tools do computation math\"\n",
    "\n",
    "# Now we'll set up the cohere client.\n",
    "if api_key is None:\n",
    "    raise ValueError(\"Please set the COHERE_API_KEY environment variable.\")\n",
    "co = cohere.Client(api_key)\n",
    "\n",
    "# Get the embeddings\n",
    "query_embed: list[list[float]] = co.embed(\n",
    "    texts=[QUERY], model=model_name, input_type=input_type_embed\n",
    ").embeddings\n",
    "query_array = np.array(query_embed)\n",
    "query_array = query_array.reshape(-1)\n",
    "\n",
    "embeds_dataset = np.load('embeddings.npy')\n",
    "\n",
    "similarity_results = np.zeros((embeds_dataset.shape[0],), dtype=np.float32)\n",
    "try:\n",
    "    similarity_results = cosine_similarity_matrix(embeds_dataset, query_array)\n",
    "except ValueError as e:\n",
    "    print(e)\n",
    "\n",
    "sorted_indices = np.argsort(similarity_results)[::-1]\n",
    "for i in range(25):\n",
    "    print(similarity_results[sorted_indices[i]], scraped_contents[sorted_indices[i]])"
   ]
  }
 ],
 "metadata": {
  "kernelspec": {
   "display_name": "env",
   "language": "python",
   "name": "python3"
  },
  "language_info": {
   "codemirror_mode": {
    "name": "ipython",
    "version": 3
   },
   "file_extension": ".py",
   "mimetype": "text/x-python",
   "name": "python",
   "nbconvert_exporter": "python",
   "pygments_lexer": "ipython3",
   "version": "3.11.8"
  }
 },
 "nbformat": 4,
 "nbformat_minor": 2
}
